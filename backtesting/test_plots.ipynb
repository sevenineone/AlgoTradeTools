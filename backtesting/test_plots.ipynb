{
 "cells": [
  {
   "cell_type": "code",
   "execution_count": 1,
   "outputs": [],
   "source": [
    "import pandas as pd\n",
    "import ta\n",
    "import plotly.graph_objects as go\n",
    "from plotly.subplots import make_subplots\n",
    "\n",
    "\n",
    "class Torgash:\n",
    "    def __init__(self):\n",
    "        self.current_base_balance = 90000000\n",
    "        self.base_symbol = 'usdt'\n",
    "        self.current_trading_balance = 0\n",
    "        self.trading_symbol = 'eth'\n",
    "        self.trading_fee_multiplier = 1 - 0.0002\n",
    "        self.min_bid_threshold = 0\n",
    "        self.min_ask_threshold = 0\n",
    "        ###################################\n",
    "        self.transaction_type_hist = []\n",
    "        self.transaction_amount_hist = []\n",
    "        self.transaction_balance_hist = []\n",
    "        self.transaction_datetime = []\n",
    "        ###################################\n",
    "        self.base_balance_hist = []\n",
    "        self.trading_balance_hist = []\n",
    "        ###################################\n",
    "        self.data = None\n",
    "        self.ind = None\n",
    "        self.current_datetime = None\n",
    "        self.current_price = 0\n",
    "        ###################################\n",
    "        order_list = []\n",
    "\n",
    "    def set_data(self, ohlcv_df: pd.DataFrame, date_time=0, open=1, high=2, low=3, close=4, volume=5):\n",
    "        self.data = pd.DataFrame([\n",
    "            ohlcv_df[ohlcv_df.columns[date_time]],\n",
    "            ohlcv_df[ohlcv_df.columns[open]],\n",
    "            ohlcv_df[ohlcv_df.columns[high]],\n",
    "            ohlcv_df[ohlcv_df.columns[low]],\n",
    "            ohlcv_df[ohlcv_df.columns[close]],\n",
    "            ohlcv_df[ohlcv_df.columns[volume]]]).T\n",
    "        self.data.columns = ['Datetime', 'Open', 'High', 'Low', 'Close', 'Volume']\n",
    "        try:\n",
    "            self.data['Datetime'] = pd.to_datetime(self.data['Datetime'], unit='ms')\n",
    "        except:\n",
    "            raise ValueError(\"Datetime column format must be unix or string format.\")\n",
    "        ##################################################### calculate indicators to dataframe\n",
    "        self.data = self.data.join(ta.trend.sma_indicator(self.data.Close, window=50))\n",
    "        self.data = self.data.join(ta.trend.sma_indicator(self.data.Close, window=100))\n",
    "        self.data.columns = ['Datetime', 'Open', 'High', 'Low', 'Close', 'Volume', 'sma_fast',\n",
    "                             'sma_slow']  # name the columns the way you want\n",
    "        #####################################################\n",
    "        self.data.set_index('Datetime', inplace=True)\n",
    "\n",
    "    def set_data_from_csv(self, filename: str, date_time=0, open=1, high=2, low=3, close=4, volume=5):\n",
    "        ohlcv_df = pd.read_csv(filename)\n",
    "        self.set_data(ohlcv_df, date_time=date_time, open=open, high=high, low=low, close=close, volume=volume)\n",
    "\n",
    "    def buy(self, amount=-1., ):\n",
    "        if amount < 0:\n",
    "            amount = self.current_base_balance\n",
    "        if self.current_base_balance >= amount >= self.min_bid_threshold:\n",
    "            self.current_base_balance -= amount\n",
    "            self.current_trading_balance += (amount / self.current_price) * self.trading_fee_multiplier\n",
    "            ###\n",
    "            self.transaction_datetime.append(self.current_datetime)\n",
    "            self.transaction_type_hist.append('buy')\n",
    "            self.transaction_balance_hist.append(\n",
    "                self.current_base_balance + (self.current_trading_balance * self.current_price))\n",
    "            self.transaction_amount_hist.append(amount)\n",
    "            ###\n",
    "            print(f\"|| {self.current_datetime} | Buy | {amount} {self.base_symbol} --> \"\n",
    "                  f\"{(amount / self.current_price) * self.trading_fee_multiplier} {self.trading_symbol} || \"\n",
    "                  f\"Balance: {self.current_base_balance} {self.base_symbol} | \"\n",
    "                  f\"{self.current_trading_balance} {self.trading_symbol} ||\")\n",
    "            self.print_ind()  # xtra output for necessary indicators\n",
    "        else:\n",
    "            print(\"Buy attempt, but not enough money.\")\n",
    "\n",
    "    def sell(self, amount=-1., ):\n",
    "        if amount < 0:\n",
    "            amount = self.current_trading_balance\n",
    "        if self.current_trading_balance >= amount >= self.min_ask_threshold:\n",
    "            self.current_trading_balance -= amount\n",
    "            self.current_base_balance += (amount * self.current_price) * self.trading_fee_multiplier\n",
    "            ###\n",
    "            self.transaction_datetime.append(self.current_datetime)\n",
    "            self.transaction_type_hist.append('sell')\n",
    "            self.transaction_balance_hist.append(\n",
    "                self.current_base_balance + (self.current_trading_balance * self.current_price))\n",
    "            self.transaction_amount_hist.append(amount)\n",
    "            ###\n",
    "            print(f\"|| {self.current_datetime} | Sell | {amount} {self.trading_symbol} --> \"\n",
    "                  f\"{(amount * self.current_price) * self.trading_fee_multiplier} {self.base_symbol} || \"\n",
    "                  f\"Balance: {self.current_base_balance} {self.base_symbol} | \"\n",
    "                  f\"{self.current_trading_balance} {self.trading_symbol} ||\")\n",
    "            self.print_ind()  # xtra output for necessary indicators\n",
    "        else:\n",
    "            print(\"Sell attempt, but not enough money.\")\n",
    "\n",
    "    def print_ind(self):  # put indicators u need (ex: )\n",
    "        print(\"\")\n",
    "\n",
    "    def run_strategy(self):\n",
    "        self.data = self.data.iloc[\n",
    "                    99:]  # We cut the top of the data, because first 100 sma values are not calculated there.\n",
    "        ##################################################### xtra variables\n",
    "        fast_above_slow = self.data.sma_fast[self.data.head(1).index[0]] > self.data.sma_slow[\n",
    "            self.data.head(1).index[0]]\n",
    "        #####################################################\n",
    "        self.base_balance_hist.append(self.current_base_balance)\n",
    "        self.trading_balance_hist.append(self.current_trading_balance)\n",
    "        for datetime, value in self.data.iterrows():\n",
    "            self.current_datetime = datetime\n",
    "            self.current_price = value.Close\n",
    "            ##################################################### There you should implement your strategy\n",
    "            if (fast_above_slow == True) and (self.data.sma_fast[datetime] < self.data.sma_slow[datetime]):\n",
    "                self.sell()\n",
    "            elif (fast_above_slow == False) and (self.data.sma_fast[datetime] > self.data.sma_slow[datetime]):\n",
    "                self.buy()\n",
    "            fast_above_slow = self.data.sma_fast[datetime] > self.data.sma_slow[datetime]\n",
    "            #####################################################\n",
    "            self.base_balance_hist.append(self.current_base_balance)\n",
    "            self.trading_balance_hist.append(self.current_trading_balance)\n",
    "\n",
    "    def plot(self):\n",
    "        i = 0\n",
    "        count_candlestick_per_plot = 10000\n",
    "\n",
    "        transaction_balance_df = pd.DataFrame(\n",
    "            [vasya.transaction_datetime, vasya.transaction_balance_hist, vasya.transaction_type_hist]).T\n",
    "        data_interval = self.data[i:i + count_candlestick_per_plot]\n",
    "        transaction_balance_df_interval = transaction_balance_df[transaction_balance_df[0].between(data_interval.index.values[0], data_interval.index.values[-1])]\n",
    "        main = make_subplots(rows=2, cols=1, row_width=[0.3, 0.7])\n",
    "\n",
    "        main.add_trace(go.Candlestick(x=data_interval.index.values,\n",
    "                                      open=data_interval['Open'], high=data_interval['High'],\n",
    "                                      low=data_interval['Low'], close=data_interval['Close'],\n",
    "                                      name=f'{self.base_symbol}/{self.trading_symbol}'), row=1, col=1)\n",
    "\n",
    "        main.add_trace(\n",
    "            go.Scatter(x=transaction_balance_df_interval[0], y=transaction_balance_df_interval[1], name='balance'),\n",
    "            row=2, col=1)\n",
    "        main.add_trace(go.Scatter(mode='markers',\n",
    "                                  x=transaction_balance_df_interval[transaction_balance_df_interval[2] == 'buy'][0],\n",
    "                                  y=transaction_balance_df_interval[transaction_balance_df_interval[2] == 'buy'][1],\n",
    "                                  marker_symbol=45,\n",
    "                                  marker_color='green', name='buy'), row=2, col=1)\n",
    "        main.add_trace(go.Scatter(mode='markers',\n",
    "                                  x=transaction_balance_df_interval[transaction_balance_df_interval[2] == 'sell'][0],\n",
    "                                  y=transaction_balance_df_interval[transaction_balance_df_interval[2] == 'sell'][1],\n",
    "                                  marker_symbol=46,\n",
    "                                  marker_color='red', name='sell'), row=2, col=1)\n",
    "\n",
    "        main.update_layout(xaxis_rangeslider_visible=False, height=800)\n",
    "        main.show()\n",
    "\n",
    "        #coming soon...\n"
   ],
   "metadata": {
    "collapsed": false,
    "pycharm": {
     "name": "#%%\n"
    }
   }
  },
  {
   "cell_type": "code",
   "execution_count": 2,
   "outputs": [
    {
     "ename": "FileNotFoundError",
     "evalue": "[Errno 2] No such file or directory: 'eth_usdt_1m_2022_01_01.csv'",
     "output_type": "error",
     "traceback": [
      "\u001B[1;31m---------------------------------------------------------------------------\u001B[0m",
      "\u001B[1;31mFileNotFoundError\u001B[0m                         Traceback (most recent call last)",
      "\u001B[1;32m<ipython-input-2-66b5b51b9de8>\u001B[0m in \u001B[0;36m<module>\u001B[1;34m\u001B[0m\n\u001B[1;32m----> 1\u001B[1;33m \u001B[0mdata\u001B[0m \u001B[1;33m=\u001B[0m \u001B[0mpd\u001B[0m\u001B[1;33m.\u001B[0m\u001B[0mread_csv\u001B[0m\u001B[1;33m(\u001B[0m\u001B[1;34m\"eth_usdt_1m_2022_01_01.csv\"\u001B[0m\u001B[1;33m)\u001B[0m\u001B[1;33m\u001B[0m\u001B[1;33m\u001B[0m\u001B[0m\n\u001B[0m\u001B[0;32m      2\u001B[0m \u001B[0mdata\u001B[0m \u001B[1;33m=\u001B[0m \u001B[0mdata\u001B[0m\u001B[1;33m.\u001B[0m\u001B[0miloc\u001B[0m\u001B[1;33m[\u001B[0m\u001B[1;33m:\u001B[0m\u001B[1;36m10000\u001B[0m\u001B[1;33m]\u001B[0m\u001B[1;33m\u001B[0m\u001B[1;33m\u001B[0m\u001B[0m\n",
      "\u001B[1;32m~\\Anaconda3\\envs\\MLenv\\lib\\site-packages\\pandas\\util\\_decorators.py\u001B[0m in \u001B[0;36mwrapper\u001B[1;34m(*args, **kwargs)\u001B[0m\n\u001B[0;32m    309\u001B[0m                     \u001B[0mstacklevel\u001B[0m\u001B[1;33m=\u001B[0m\u001B[0mstacklevel\u001B[0m\u001B[1;33m,\u001B[0m\u001B[1;33m\u001B[0m\u001B[1;33m\u001B[0m\u001B[0m\n\u001B[0;32m    310\u001B[0m                 )\n\u001B[1;32m--> 311\u001B[1;33m             \u001B[1;32mreturn\u001B[0m \u001B[0mfunc\u001B[0m\u001B[1;33m(\u001B[0m\u001B[1;33m*\u001B[0m\u001B[0margs\u001B[0m\u001B[1;33m,\u001B[0m \u001B[1;33m**\u001B[0m\u001B[0mkwargs\u001B[0m\u001B[1;33m)\u001B[0m\u001B[1;33m\u001B[0m\u001B[1;33m\u001B[0m\u001B[0m\n\u001B[0m\u001B[0;32m    312\u001B[0m \u001B[1;33m\u001B[0m\u001B[0m\n\u001B[0;32m    313\u001B[0m         \u001B[1;32mreturn\u001B[0m \u001B[0mwrapper\u001B[0m\u001B[1;33m\u001B[0m\u001B[1;33m\u001B[0m\u001B[0m\n",
      "\u001B[1;32m~\\Anaconda3\\envs\\MLenv\\lib\\site-packages\\pandas\\io\\parsers\\readers.py\u001B[0m in \u001B[0;36mread_csv\u001B[1;34m(filepath_or_buffer, sep, delimiter, header, names, index_col, usecols, squeeze, prefix, mangle_dupe_cols, dtype, engine, converters, true_values, false_values, skipinitialspace, skiprows, skipfooter, nrows, na_values, keep_default_na, na_filter, verbose, skip_blank_lines, parse_dates, infer_datetime_format, keep_date_col, date_parser, dayfirst, cache_dates, iterator, chunksize, compression, thousands, decimal, lineterminator, quotechar, quoting, doublequote, escapechar, comment, encoding, encoding_errors, dialect, error_bad_lines, warn_bad_lines, on_bad_lines, delim_whitespace, low_memory, memory_map, float_precision, storage_options)\u001B[0m\n\u001B[0;32m    584\u001B[0m     \u001B[0mkwds\u001B[0m\u001B[1;33m.\u001B[0m\u001B[0mupdate\u001B[0m\u001B[1;33m(\u001B[0m\u001B[0mkwds_defaults\u001B[0m\u001B[1;33m)\u001B[0m\u001B[1;33m\u001B[0m\u001B[1;33m\u001B[0m\u001B[0m\n\u001B[0;32m    585\u001B[0m \u001B[1;33m\u001B[0m\u001B[0m\n\u001B[1;32m--> 586\u001B[1;33m     \u001B[1;32mreturn\u001B[0m \u001B[0m_read\u001B[0m\u001B[1;33m(\u001B[0m\u001B[0mfilepath_or_buffer\u001B[0m\u001B[1;33m,\u001B[0m \u001B[0mkwds\u001B[0m\u001B[1;33m)\u001B[0m\u001B[1;33m\u001B[0m\u001B[1;33m\u001B[0m\u001B[0m\n\u001B[0m\u001B[0;32m    587\u001B[0m \u001B[1;33m\u001B[0m\u001B[0m\n\u001B[0;32m    588\u001B[0m \u001B[1;33m\u001B[0m\u001B[0m\n",
      "\u001B[1;32m~\\Anaconda3\\envs\\MLenv\\lib\\site-packages\\pandas\\io\\parsers\\readers.py\u001B[0m in \u001B[0;36m_read\u001B[1;34m(filepath_or_buffer, kwds)\u001B[0m\n\u001B[0;32m    480\u001B[0m \u001B[1;33m\u001B[0m\u001B[0m\n\u001B[0;32m    481\u001B[0m     \u001B[1;31m# Create the parser.\u001B[0m\u001B[1;33m\u001B[0m\u001B[1;33m\u001B[0m\u001B[1;33m\u001B[0m\u001B[0m\n\u001B[1;32m--> 482\u001B[1;33m     \u001B[0mparser\u001B[0m \u001B[1;33m=\u001B[0m \u001B[0mTextFileReader\u001B[0m\u001B[1;33m(\u001B[0m\u001B[0mfilepath_or_buffer\u001B[0m\u001B[1;33m,\u001B[0m \u001B[1;33m**\u001B[0m\u001B[0mkwds\u001B[0m\u001B[1;33m)\u001B[0m\u001B[1;33m\u001B[0m\u001B[1;33m\u001B[0m\u001B[0m\n\u001B[0m\u001B[0;32m    483\u001B[0m \u001B[1;33m\u001B[0m\u001B[0m\n\u001B[0;32m    484\u001B[0m     \u001B[1;32mif\u001B[0m \u001B[0mchunksize\u001B[0m \u001B[1;32mor\u001B[0m \u001B[0miterator\u001B[0m\u001B[1;33m:\u001B[0m\u001B[1;33m\u001B[0m\u001B[1;33m\u001B[0m\u001B[0m\n",
      "\u001B[1;32m~\\Anaconda3\\envs\\MLenv\\lib\\site-packages\\pandas\\io\\parsers\\readers.py\u001B[0m in \u001B[0;36m__init__\u001B[1;34m(self, f, engine, **kwds)\u001B[0m\n\u001B[0;32m    809\u001B[0m             \u001B[0mself\u001B[0m\u001B[1;33m.\u001B[0m\u001B[0moptions\u001B[0m\u001B[1;33m[\u001B[0m\u001B[1;34m\"has_index_names\"\u001B[0m\u001B[1;33m]\u001B[0m \u001B[1;33m=\u001B[0m \u001B[0mkwds\u001B[0m\u001B[1;33m[\u001B[0m\u001B[1;34m\"has_index_names\"\u001B[0m\u001B[1;33m]\u001B[0m\u001B[1;33m\u001B[0m\u001B[1;33m\u001B[0m\u001B[0m\n\u001B[0;32m    810\u001B[0m \u001B[1;33m\u001B[0m\u001B[0m\n\u001B[1;32m--> 811\u001B[1;33m         \u001B[0mself\u001B[0m\u001B[1;33m.\u001B[0m\u001B[0m_engine\u001B[0m \u001B[1;33m=\u001B[0m \u001B[0mself\u001B[0m\u001B[1;33m.\u001B[0m\u001B[0m_make_engine\u001B[0m\u001B[1;33m(\u001B[0m\u001B[0mself\u001B[0m\u001B[1;33m.\u001B[0m\u001B[0mengine\u001B[0m\u001B[1;33m)\u001B[0m\u001B[1;33m\u001B[0m\u001B[1;33m\u001B[0m\u001B[0m\n\u001B[0m\u001B[0;32m    812\u001B[0m \u001B[1;33m\u001B[0m\u001B[0m\n\u001B[0;32m    813\u001B[0m     \u001B[1;32mdef\u001B[0m \u001B[0mclose\u001B[0m\u001B[1;33m(\u001B[0m\u001B[0mself\u001B[0m\u001B[1;33m)\u001B[0m\u001B[1;33m:\u001B[0m\u001B[1;33m\u001B[0m\u001B[1;33m\u001B[0m\u001B[0m\n",
      "\u001B[1;32m~\\Anaconda3\\envs\\MLenv\\lib\\site-packages\\pandas\\io\\parsers\\readers.py\u001B[0m in \u001B[0;36m_make_engine\u001B[1;34m(self, engine)\u001B[0m\n\u001B[0;32m   1038\u001B[0m             )\n\u001B[0;32m   1039\u001B[0m         \u001B[1;31m# error: Too many arguments for \"ParserBase\"\u001B[0m\u001B[1;33m\u001B[0m\u001B[1;33m\u001B[0m\u001B[1;33m\u001B[0m\u001B[0m\n\u001B[1;32m-> 1040\u001B[1;33m         \u001B[1;32mreturn\u001B[0m \u001B[0mmapping\u001B[0m\u001B[1;33m[\u001B[0m\u001B[0mengine\u001B[0m\u001B[1;33m]\u001B[0m\u001B[1;33m(\u001B[0m\u001B[0mself\u001B[0m\u001B[1;33m.\u001B[0m\u001B[0mf\u001B[0m\u001B[1;33m,\u001B[0m \u001B[1;33m**\u001B[0m\u001B[0mself\u001B[0m\u001B[1;33m.\u001B[0m\u001B[0moptions\u001B[0m\u001B[1;33m)\u001B[0m  \u001B[1;31m# type: ignore[call-arg]\u001B[0m\u001B[1;33m\u001B[0m\u001B[1;33m\u001B[0m\u001B[0m\n\u001B[0m\u001B[0;32m   1041\u001B[0m \u001B[1;33m\u001B[0m\u001B[0m\n\u001B[0;32m   1042\u001B[0m     \u001B[1;32mdef\u001B[0m \u001B[0m_failover_to_python\u001B[0m\u001B[1;33m(\u001B[0m\u001B[0mself\u001B[0m\u001B[1;33m)\u001B[0m\u001B[1;33m:\u001B[0m\u001B[1;33m\u001B[0m\u001B[1;33m\u001B[0m\u001B[0m\n",
      "\u001B[1;32m~\\Anaconda3\\envs\\MLenv\\lib\\site-packages\\pandas\\io\\parsers\\c_parser_wrapper.py\u001B[0m in \u001B[0;36m__init__\u001B[1;34m(self, src, **kwds)\u001B[0m\n\u001B[0;32m     49\u001B[0m \u001B[1;33m\u001B[0m\u001B[0m\n\u001B[0;32m     50\u001B[0m         \u001B[1;31m# open handles\u001B[0m\u001B[1;33m\u001B[0m\u001B[1;33m\u001B[0m\u001B[1;33m\u001B[0m\u001B[0m\n\u001B[1;32m---> 51\u001B[1;33m         \u001B[0mself\u001B[0m\u001B[1;33m.\u001B[0m\u001B[0m_open_handles\u001B[0m\u001B[1;33m(\u001B[0m\u001B[0msrc\u001B[0m\u001B[1;33m,\u001B[0m \u001B[0mkwds\u001B[0m\u001B[1;33m)\u001B[0m\u001B[1;33m\u001B[0m\u001B[1;33m\u001B[0m\u001B[0m\n\u001B[0m\u001B[0;32m     52\u001B[0m         \u001B[1;32massert\u001B[0m \u001B[0mself\u001B[0m\u001B[1;33m.\u001B[0m\u001B[0mhandles\u001B[0m \u001B[1;32mis\u001B[0m \u001B[1;32mnot\u001B[0m \u001B[1;32mNone\u001B[0m\u001B[1;33m\u001B[0m\u001B[1;33m\u001B[0m\u001B[0m\n\u001B[0;32m     53\u001B[0m \u001B[1;33m\u001B[0m\u001B[0m\n",
      "\u001B[1;32m~\\Anaconda3\\envs\\MLenv\\lib\\site-packages\\pandas\\io\\parsers\\base_parser.py\u001B[0m in \u001B[0;36m_open_handles\u001B[1;34m(self, src, kwds)\u001B[0m\n\u001B[0;32m    227\u001B[0m             \u001B[0mmemory_map\u001B[0m\u001B[1;33m=\u001B[0m\u001B[0mkwds\u001B[0m\u001B[1;33m.\u001B[0m\u001B[0mget\u001B[0m\u001B[1;33m(\u001B[0m\u001B[1;34m\"memory_map\"\u001B[0m\u001B[1;33m,\u001B[0m \u001B[1;32mFalse\u001B[0m\u001B[1;33m)\u001B[0m\u001B[1;33m,\u001B[0m\u001B[1;33m\u001B[0m\u001B[1;33m\u001B[0m\u001B[0m\n\u001B[0;32m    228\u001B[0m             \u001B[0mstorage_options\u001B[0m\u001B[1;33m=\u001B[0m\u001B[0mkwds\u001B[0m\u001B[1;33m.\u001B[0m\u001B[0mget\u001B[0m\u001B[1;33m(\u001B[0m\u001B[1;34m\"storage_options\"\u001B[0m\u001B[1;33m,\u001B[0m \u001B[1;32mNone\u001B[0m\u001B[1;33m)\u001B[0m\u001B[1;33m,\u001B[0m\u001B[1;33m\u001B[0m\u001B[1;33m\u001B[0m\u001B[0m\n\u001B[1;32m--> 229\u001B[1;33m             \u001B[0merrors\u001B[0m\u001B[1;33m=\u001B[0m\u001B[0mkwds\u001B[0m\u001B[1;33m.\u001B[0m\u001B[0mget\u001B[0m\u001B[1;33m(\u001B[0m\u001B[1;34m\"encoding_errors\"\u001B[0m\u001B[1;33m,\u001B[0m \u001B[1;34m\"strict\"\u001B[0m\u001B[1;33m)\u001B[0m\u001B[1;33m,\u001B[0m\u001B[1;33m\u001B[0m\u001B[1;33m\u001B[0m\u001B[0m\n\u001B[0m\u001B[0;32m    230\u001B[0m         )\n\u001B[0;32m    231\u001B[0m \u001B[1;33m\u001B[0m\u001B[0m\n",
      "\u001B[1;32m~\\Anaconda3\\envs\\MLenv\\lib\\site-packages\\pandas\\io\\common.py\u001B[0m in \u001B[0;36mget_handle\u001B[1;34m(path_or_buf, mode, encoding, compression, memory_map, is_text, errors, storage_options)\u001B[0m\n\u001B[0;32m    705\u001B[0m                 \u001B[0mencoding\u001B[0m\u001B[1;33m=\u001B[0m\u001B[0mioargs\u001B[0m\u001B[1;33m.\u001B[0m\u001B[0mencoding\u001B[0m\u001B[1;33m,\u001B[0m\u001B[1;33m\u001B[0m\u001B[1;33m\u001B[0m\u001B[0m\n\u001B[0;32m    706\u001B[0m                 \u001B[0merrors\u001B[0m\u001B[1;33m=\u001B[0m\u001B[0merrors\u001B[0m\u001B[1;33m,\u001B[0m\u001B[1;33m\u001B[0m\u001B[1;33m\u001B[0m\u001B[0m\n\u001B[1;32m--> 707\u001B[1;33m                 \u001B[0mnewline\u001B[0m\u001B[1;33m=\u001B[0m\u001B[1;34m\"\"\u001B[0m\u001B[1;33m,\u001B[0m\u001B[1;33m\u001B[0m\u001B[1;33m\u001B[0m\u001B[0m\n\u001B[0m\u001B[0;32m    708\u001B[0m             )\n\u001B[0;32m    709\u001B[0m         \u001B[1;32melse\u001B[0m\u001B[1;33m:\u001B[0m\u001B[1;33m\u001B[0m\u001B[1;33m\u001B[0m\u001B[0m\n",
      "\u001B[1;31mFileNotFoundError\u001B[0m: [Errno 2] No such file or directory: 'eth_usdt_1m_2022_01_01.csv'"
     ]
    }
   ],
   "source": [
    "\n",
    "data = pd.read_csv(\"eth_usdt_1m_2022_01_01.csv\")\n",
    "data = data.iloc[:10000]"
   ],
   "metadata": {
    "collapsed": false,
    "pycharm": {
     "name": "#%%\n"
    }
   }
  },
  {
   "cell_type": "code",
   "execution_count": null,
   "outputs": [],
   "source": [
    "vasya = Torgash()\n",
    "\n",
    "vasya.set_data(data)"
   ],
   "metadata": {
    "collapsed": false,
    "pycharm": {
     "name": "#%%\n"
    }
   }
  },
  {
   "cell_type": "code",
   "execution_count": null,
   "outputs": [],
   "source": [
    "vasya.run_strategy()"
   ],
   "metadata": {
    "collapsed": false,
    "pycharm": {
     "name": "#%%\n"
    }
   }
  },
  {
   "cell_type": "code",
   "execution_count": null,
   "outputs": [],
   "source": [
    "vasya.data.head(1000)"
   ],
   "metadata": {
    "collapsed": false,
    "pycharm": {
     "name": "#%%\n"
    }
   }
  },
  {
   "cell_type": "code",
   "execution_count": null,
   "outputs": [],
   "source": [
    "vasya.data.sma_fast[vasya.data.head(1).index[0]]"
   ],
   "metadata": {
    "collapsed": false,
    "pycharm": {
     "name": "#%%\n"
    }
   }
  },
  {
   "cell_type": "code",
   "execution_count": null,
   "outputs": [],
   "source": [
    "vasya.plot()"
   ],
   "metadata": {
    "collapsed": false,
    "pycharm": {
     "name": "#%%\n"
    }
   }
  },
  {
   "cell_type": "code",
   "execution_count": null,
   "outputs": [],
   "source": [
    "\n",
    "time_balance_df = pd.DataFrame([vasya.data.index, vasya.base_balance_hist, vasya.trading_balance_hist]).T\n",
    "\n",
    "time_balance_df.set_index(0, inplace=True)\n",
    "time_balance_df[2] = time_balance_df[2] * vasya.data['Close']\n",
    "time_balance_df[1] = time_balance_df[1].apply(lambda x: None if x == 0.0 else x)\n",
    "time_balance_df[2] = time_balance_df[2].apply(lambda x: None if x == 0.0 else x)\n",
    "time_balance_df = time_balance_df.reset_index(level=0)\n",
    "fig = go.Figure()\n",
    "fig.add_trace(go.Scatter(x=time_balance_df[0], y=time_balance_df[1]))\n",
    "fig.add_trace(go.Scatter(x=time_balance_df[0], y=time_balance_df[2]))\n",
    "fig.show()"
   ],
   "metadata": {
    "collapsed": false,
    "pycharm": {
     "name": "#%%\n"
    }
   }
  },
  {
   "cell_type": "code",
   "execution_count": null,
   "outputs": [],
   "source": [],
   "metadata": {
    "collapsed": false,
    "pycharm": {
     "name": "#%%\n"
    }
   }
  },
  {
   "cell_type": "code",
   "execution_count": null,
   "outputs": [],
   "source": [],
   "metadata": {
    "collapsed": false,
    "pycharm": {
     "name": "#%%\n"
    }
   }
  },
  {
   "cell_type": "code",
   "execution_count": null,
   "outputs": [],
   "source": [],
   "metadata": {
    "collapsed": false,
    "pycharm": {
     "name": "#%%\n"
    }
   }
  },
  {
   "cell_type": "code",
   "execution_count": null,
   "outputs": [],
   "source": [],
   "metadata": {
    "collapsed": false,
    "pycharm": {
     "name": "#%%\n"
    }
   }
  },
  {
   "cell_type": "code",
   "execution_count": null,
   "outputs": [],
   "source": [],
   "metadata": {
    "collapsed": false,
    "pycharm": {
     "name": "#%%\n"
    }
   }
  },
  {
   "cell_type": "code",
   "execution_count": null,
   "outputs": [],
   "source": [],
   "metadata": {
    "collapsed": false,
    "pycharm": {
     "name": "#%%\n"
    }
   }
  },
  {
   "cell_type": "code",
   "execution_count": null,
   "outputs": [],
   "source": [
    "#transaction_balance_df = pd.DataFrame(\n",
    "#    [vasya.transaction_datetime, vasya.transaction_balance_hist, vasya.transaction_type_hist]).T\n",
    "#\n",
    "#transaction_balance_fig = go.Figure()\n",
    "#transaction_balance_fig.add_trace(go.Scatter(x=transaction_balance_df[0], y=transaction_balance_df[1], name='balance'))\n",
    "#transaction_balance_fig.add_trace(go.Scatter(mode='markers', x=transaction_balance_df[transaction_balance_df[2] == 'buy'][0],\n",
    "#                         y=transaction_balance_df[transaction_balance_df[2] == 'buy'][1], marker_symbol=45,\n",
    "#                         marker_color='green', name='buy'))\n",
    "#transaction_balance_fig.add_trace(go.Scatter(mode='markers', x=transaction_balance_df[transaction_balance_df[2] == 'sell'][0],\n",
    "#                         y=transaction_balance_df[transaction_balance_df[2] == 'sell'][1], marker_symbol=46,\n",
    "#                         marker_color='red', name='sell'))\n",
    "#transaction_balance_fig.show()"
   ],
   "metadata": {
    "collapsed": false,
    "pycharm": {
     "name": "#%%\n"
    }
   }
  },
  {
   "cell_type": "code",
   "execution_count": null,
   "outputs": [],
   "source": [],
   "metadata": {
    "collapsed": false,
    "pycharm": {
     "name": "#%%\n"
    }
   }
  }
 ],
 "metadata": {
  "kernelspec": {
   "display_name": "Python 3",
   "language": "python",
   "name": "python3"
  },
  "language_info": {
   "codemirror_mode": {
    "name": "ipython",
    "version": 2
   },
   "file_extension": ".py",
   "mimetype": "text/x-python",
   "name": "python",
   "nbconvert_exporter": "python",
   "pygments_lexer": "ipython2",
   "version": "2.7.6"
  }
 },
 "nbformat": 4,
 "nbformat_minor": 0
}